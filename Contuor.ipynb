{
 "cells": [
  {
   "cell_type": "code",
   "execution_count": 1,
   "metadata": {},
   "outputs": [
    {
     "ename": "ModuleNotFoundError",
     "evalue": "No module named 'torch'",
     "output_type": "error",
     "traceback": [
      "\u001b[1;31m---------------------------------------------------------------------------\u001b[0m",
      "\u001b[1;31mModuleNotFoundError\u001b[0m                       Traceback (most recent call last)",
      "\u001b[1;32m~\\AppData\\Local\\Temp\\ipykernel_1772\\275795937.py\u001b[0m in \u001b[0;36m<module>\u001b[1;34m\u001b[0m\n\u001b[0;32m      1\u001b[0m \u001b[1;32mimport\u001b[0m \u001b[0mcv2\u001b[0m \u001b[1;32mas\u001b[0m \u001b[0mcv\u001b[0m\u001b[1;33m\u001b[0m\u001b[1;33m\u001b[0m\u001b[0m\n\u001b[0;32m      2\u001b[0m \u001b[1;32mimport\u001b[0m \u001b[0mnumpy\u001b[0m \u001b[1;32mas\u001b[0m \u001b[0mnp\u001b[0m\u001b[1;33m\u001b[0m\u001b[1;33m\u001b[0m\u001b[0m\n\u001b[1;32m----> 3\u001b[1;33m \u001b[1;32mimport\u001b[0m \u001b[0mtorch\u001b[0m\u001b[1;33m\u001b[0m\u001b[1;33m\u001b[0m\u001b[0m\n\u001b[0m",
      "\u001b[1;31mModuleNotFoundError\u001b[0m: No module named 'torch'"
     ]
    }
   ],
   "source": [
    "import cv2 as cv\n",
    "import numpy as np"
   ]
  },
  {
   "cell_type": "code",
   "execution_count": 6,
   "metadata": {},
   "outputs": [],
   "source": [
    "labels = {}\n",
    "with open(\"./find_phone/labels.txt\") as f:\n",
    "    for line in f:\n",
    "        (key, val1, val2) = line.split()\n",
    "        labels[key] = [float(val1), float(val2)]"
   ]
  },
  {
   "cell_type": "code",
   "execution_count": 86,
   "metadata": {},
   "outputs": [],
   "source": [
    "def center_of_rectangle(rect):\n",
    "    x = (rect[0] + rect[2])/2\n",
    "    y = (rect[1] + rect[3])/2\n",
    "    return (x/490, y/326)"
   ]
  },
  {
   "cell_type": "code",
   "execution_count": 87,
   "metadata": {},
   "outputs": [
    {
     "name": "stdout",
     "output_type": "stream",
     "text": [
      "[0.2388, 0.6012] (0.24081632653061225, 0.6058282208588958)\n",
      "[0.2551, 0.3129] (0.2612244897959184, 0.31901840490797545)\n",
      "[0.7122, 0.7117] (0.7030612244897959, 0.7392638036809815)\n",
      "[0.5286, 0.4877] (0.5418367346938775, 0.49693251533742333)\n",
      "[0.7714, 0.3252] (0.7714285714285715, 0.32515337423312884)\n",
      "[0.1122, 0.3466] (0.11428571428571428, 0.3512269938650307)\n",
      "[0.8449, 0.1564] (0.8530612244897959, 0.17638036809815952)\n",
      "[0.4837, 0.4509] (0.49489795918367346, 0.4708588957055215)\n",
      "[0.2612, 0.8037] (0.25918367346938775, 0.803680981595092)\n",
      "[0.6551, 0.3466] (0.6591836734693878, 0.348159509202454)\n",
      "[0.1878, 0.1104] (0.18979591836734694, 0.11503067484662577)\n",
      "[0.7837, 0.6503] (0.7836734693877551, 0.6503067484662577)\n",
      "[0.602, 0.1135] (0.6051020408163266, 0.11349693251533742)\n",
      "[0.149, 0.6442] (0.15, 0.6457055214723927)\n",
      "[0.8061, 0.2699] (0.810204081632653, 0.27607361963190186)\n",
      "[0.4082, 0.7791] (0.4020408163265306, 0.7684049079754601)\n",
      "[0.4327, 0.8405] (0.4346938775510204, 0.8450920245398773)\n",
      "[0.2286, 0.8712] (0.22551020408163266, 0.8742331288343558)\n",
      "[0.7571, 0.4264] (0.7663265306122449, 0.4432515337423313)\n",
      "[0.8367, 0.7147] (0.8357142857142857, 0.7162576687116564)\n",
      "[0.3714, 0.5307] (0.37142857142857144, 0.5306748466257669)\n",
      "[0.598, 0.1258] (0.6, 0.13190184049079753)\n",
      "[0.6837, 0.7485] (0.6908163265306122, 0.7515337423312883)\n",
      "[0.2531, 0.2117] (0.2540816326530612, 0.2085889570552147)\n",
      "[0.7551, 0.4847] (0.7693877551020408, 0.5153374233128835)\n",
      "[0.6939, 0.2975] (0.6938775510204082, 0.2929447852760736)\n",
      "[0.5837, 0.2117] (0.5826530612244898, 0.21932515337423314)\n",
      "[0.7796, 0.7454] (0.7806122448979592, 0.7469325153374233)\n",
      "[0.849, 0.6626] (0.8530612244897959, 0.6641104294478528)\n",
      "[0.2347, 0.2209] (0.23061224489795917, 0.21779141104294478)\n",
      "[0.8857, 0.4387] (0.8857142857142857, 0.4371165644171779)\n",
      "[0.5592, 0.5767] (0.560204081632653, 0.5797546012269938)\n",
      "[0.5163, 0.5] (0.513265306122449, 0.5)\n",
      "[0.3347, 0.3436] (0.3346938775510204, 0.34355828220858897)\n",
      "[0.8204, 0.8558] (0.8285714285714286, 0.8634969325153374)\n",
      "[0.2878, 0.4448] (0.3010204081632653, 0.44631901840490795)\n",
      "[0.1857, 0.8589] (0.1846938775510204, 0.8634969325153374)\n",
      "[0.1898, 0.2669] (0.19081632653061226, 0.254601226993865)\n",
      "[0.3531, 0.7791] (0.35306122448979593, 0.7760736196319018)\n",
      "[0.8143, 0.7086] (0.8142857142857143, 0.7085889570552147)\n",
      "[0.2714, 0.362] (0.2714285714285714, 0.36349693251533743)\n",
      "[0.649, 0.2239] (0.6571428571428571, 0.24233128834355827)\n",
      "[0.1857, 0.2546] (0.1826530612244898, 0.25766871165644173)\n",
      "[0.202, 0.5736] (0.2030612244897959, 0.5751533742331288)\n",
      "[0.2959, 0.8957] (0.29489795918367345, 0.897239263803681)\n",
      "[0.451, 0.7914] (0.45510204081632655, 0.7914110429447853)\n",
      "[0.3184, 0.3252] (0.3326530612244898, 0.34202453987730064)\n",
      "[0.7592, 0.8129] (0.7602040816326531, 0.8098159509202454)\n",
      "[0.8388, 0.7515] (0.8418367346938775, 0.7607361963190185)\n",
      "[0.8163, 0.5429] (0.8183673469387756, 0.5429447852760736)\n",
      "[0.7143, 0.4509] (0.7153061224489796, 0.45245398773006135)\n",
      "[0.7388, 0.2546] (0.7387755102040816, 0.254601226993865)\n",
      "[0.498, 0.8681] (0.4959183673469388, 0.8680981595092024)\n",
      "[0.4408, 0.5061] (0.44285714285714284, 0.50920245398773)\n",
      "[0.449, 0.227] (0.463265306122449, 0.2147239263803681)\n",
      "[0.5429, 0.2822] (0.5459183673469388, 0.2837423312883436)\n",
      "[0.0959, 0.135] (0.09489795918367347, 0.13650306748466257)\n",
      "[0.6653, 0.6104] (0.6673469387755102, 0.6134969325153374)\n",
      "[0.6837, 0.3712] (0.6877551020408164, 0.37576687116564417)\n",
      "[0.2204, 0.8098] (0.2193877551020408, 0.8144171779141104)\n",
      "[0.8857, 0.6227] (0.8816326530612245, 0.6273006134969326)\n",
      "[0.2429, 0.6871] (0.24081632653061225, 0.691717791411043)\n",
      "[0.3449, 0.7822] (0.3448979591836735, 0.7791411042944786)\n",
      "[0.4714, 0.5307] (0.4846938775510204, 0.5506134969325154)\n"
     ]
    }
   ],
   "source": [
    "for key in labels:\n",
    "    image = cv.imread(\"./find_phone/\" + key )\n",
    "    y,x,_ = image.shape\n",
    "    centerx, centery = int(float(labels[key][0])*x), int(float(labels[key][1])*y)\n",
    "    # cv.rectangle(image, mask[0], mask[1], (0,0,255), 2)\n",
    "    ROI_points = np.array([[(centerx-30, centery-30),(centerx+30,centery-30),(centerx+30, centery+30),(centerx-30, centery+30)]], dtype=np.int32)\n",
    "    masked_image = np.zeros(image.shape[:2], dtype=np.uint8)\n",
    "    mask = cv.fillPoly(masked_image,ROI_points,255)\n",
    "    ## Apply mask to edges image\n",
    "    masked_image = cv.bitwise_and(image,image, mask = mask)\n",
    "    \n",
    "    \n",
    "    l,a,b = cv.split(cv.cvtColor(masked_image,cv.COLOR_BGR2LAB))\n",
    "    clahe = cv.createCLAHE(clipLimit=2.0,tileGridSize=(8,8))\n",
    "    adpt_hist = clahe.apply(l)\n",
    "    corrected_image = cv.cvtColor((cv.merge((adpt_hist,a,b))),cv.COLOR_LAB2BGR)\n",
    "    \n",
    "    blurred = cv.GaussianBlur(corrected_image,(3,3),0)\n",
    "    # gray = cv.cvtColor(blurred[:,:,-1],cv.COLOR_BGR2GRAY)\n",
    "    ret, thresh = cv.threshold(blurred[:,:,0], 150, 255, cv.THRESH_BINARY+cv.THRESH_OTSU)\n",
    "    canny = cv.Canny(thresh,100,200)\n",
    "    contours, hierarchy = cv.findContours(image=thresh, mode=cv.RETR_TREE, method=cv.CHAIN_APPROX_SIMPLE)\n",
    "    try:\n",
    "        second_largerst = np.argsort([cv.contourArea(x)for x in contours])[-2]\n",
    "    except:\n",
    "        second_largerst = 0\n",
    "    # cv.drawContours(image, contours[second_largerst], -1, (0,255,0), 3)\n",
    "    # print(labels[key],cv.mom)\n",
    "    \n",
    "    x,y,w,h = cv.boundingRect(contours[second_largerst])\n",
    "    cv.rectangle(image,(x,y),(x+w,y+h),(0,255,0),2)\n",
    "    \n",
    "    print(labels[key], center_of_rectangle([x,y,x+w,y+h]))\n",
    "    \n",
    "    cv.namedWindow(\"image\", cv.WINDOW_NORMAL)\n",
    "    cv.imshow(\"image\",thresh)\n",
    "    cv.namedWindow(\"image2\", cv.WINDOW_NORMAL)\n",
    "    cv.imshow(\"image2\",canny)\n",
    "    cv.namedWindow(\"image3\", cv.WINDOW_NORMAL)\n",
    "    cv.imshow(\"image3\",image)\n",
    "    \n",
    "    # print(labels[key],contours[-1])\n",
    "    if cv.waitKey(0) & 0xFF == ord('s'):\n",
    "            cv.destroyAllWindows()\n",
    "            break\n",
    "    # print(key, labels[key])\n",
    "    # break\n",
    "cv.waitKey(1)\n",
    "cv.destroyAllWindows()"
   ]
  },
  {
   "cell_type": "code",
   "execution_count": 88,
   "metadata": {},
   "outputs": [
    {
     "data": {
      "text/plain": [
       "array([[[200, 143],\n",
       "        [260, 143],\n",
       "        [260, 203],\n",
       "        [200, 203]]])"
      ]
     },
     "execution_count": 88,
     "metadata": {},
     "output_type": "execute_result"
    }
   ],
   "source": [
    "ROI_points"
   ]
  },
  {
   "cell_type": "code",
   "execution_count": 65,
   "metadata": {},
   "outputs": [
    {
     "data": {
      "text/plain": [
       "array([3, 2, 1, 4, 0], dtype=int64)"
      ]
     },
     "execution_count": 65,
     "metadata": {},
     "output_type": "execute_result"
    }
   ],
   "source": [
    "np.argsort([cv.contourArea(x)for x in contours])[-2]"
   ]
  },
  {
   "cell_type": "code",
   "execution_count": null,
   "metadata": {},
   "outputs": [],
   "source": []
  }
 ],
 "metadata": {
  "interpreter": {
   "hash": "d002c88899aefa9981c869b211d493db0c55adb45f78cd2d618ec0e7130067d5"
  },
  "kernelspec": {
   "display_name": "Python 3.7.11 ('myenv')",
   "language": "python",
   "name": "python3"
  },
  "language_info": {
   "codemirror_mode": {
    "name": "ipython",
    "version": 3
   },
   "file_extension": ".py",
   "mimetype": "text/x-python",
   "name": "python",
   "nbconvert_exporter": "python",
   "pygments_lexer": "ipython3",
   "version": "3.7.11"
  },
  "orig_nbformat": 4
 },
 "nbformat": 4,
 "nbformat_minor": 2
}
